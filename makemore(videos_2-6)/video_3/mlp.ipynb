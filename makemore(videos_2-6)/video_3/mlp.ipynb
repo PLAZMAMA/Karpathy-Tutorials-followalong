{
 "cells": [
  {
   "cell_type": "code",
   "execution_count": 3,
   "metadata": {},
   "outputs": [],
   "source": [
    "import math\n",
    "from random import shuffle\n",
    "from copy import deepcopy\n",
    "import torch\n",
    "import torch.nn.functional as tfunc\n",
    "import matplotlib.pyplot as plt\n",
    "\n",
    "\n",
    "torch.set_default_device(\"cuda\")"
   ]
  },
  {
   "cell_type": "markdown",
   "metadata": {},
   "source": [
    "# Building Dataset"
   ]
  },
  {
   "cell_type": "code",
   "execution_count": 4,
   "metadata": {},
   "outputs": [],
   "source": [
    "words = open(\"../names.txt\", \"r\").read().splitlines()\n",
    "chars = sorted(list(set(\"\".join(words))))\n",
    "char_to_indx = {char: indx+1 for indx, char in enumerate(chars)}\n",
    "char_to_indx[\".\"] = 0\n",
    "indx_to_char = {indx: char for char, indx in char_to_indx.items()}\n",
    "\n",
    "def train_dev_test_split(words, train_percentage, dev_percentage):\n",
    "    shuffled_words = deepcopy(words)\n",
    "    shuffle(shuffled_words)\n",
    "    train_dev_split_point = math.ceil(len(words) * train_percentage)\n",
    "    dev_val_split_point = math.floor(\n",
    "        train_dev_split_point + (len(words) * dev_percentage)\n",
    "    )\n",
    "    return (\n",
    "        shuffled_words[:train_dev_split_point],\n",
    "        shuffled_words[train_dev_split_point:dev_val_split_point],\n",
    "        shuffled_words[dev_val_split_point:],\n",
    "    )\n",
    "\n",
    "def create_dataset(words, char_to_indx, block_size = 3):\n",
    "    inputs, labels = [], []\n",
    "    for word in words:\n",
    "        # print(word)\n",
    "        context = [0] * block_size\n",
    "        for label in word + \".\":\n",
    "            label_indx = char_to_indx[label]\n",
    "            inputs.append(context)\n",
    "            labels.append(label_indx)\n",
    "            # print(\"\".join(indx_to_char[indx] for indx in context), \"------>\", label)\n",
    "            context = context[1:] + [label_indx]\n",
    "        # print()\n",
    "\n",
    "    return torch.tensor(inputs), torch.tensor(labels)\n",
    "\n",
    "BLOCK_SIZE = 5\n",
    "train_words, dev_words, test_words = train_dev_test_split(words, 0.8, 0.1)\n",
    "train_inputs, train_labels = create_dataset(train_words, char_to_indx, block_size=BLOCK_SIZE)\n",
    "dev_inputs, dev_labels = create_dataset(dev_words, char_to_indx, block_size=BLOCK_SIZE)\n",
    "test_inputs, test_labels = create_dataset(test_words, char_to_indx, block_size=BLOCK_SIZE)"
   ]
  },
  {
   "cell_type": "markdown",
   "metadata": {},
   "source": [
    "# Initializing Model Params"
   ]
  },
  {
   "cell_type": "code",
   "execution_count": null,
   "metadata": {},
   "outputs": [
    {
     "name": "stdout",
     "output_type": "stream",
     "text": [
      "TOTAL PARAMS: 54237\n"
     ]
    }
   ],
   "source": [
    "# Params\n",
    "gen = torch.Generator(device=\"cuda\").manual_seed(2147483647)\n",
    "CHAR_FEATURES_NUM = 30\n",
    "HIDDEN_UNITS_NUM = 300\n",
    "\n",
    "# Randomly generated params\n",
    "C = torch.randn((27, CHAR_FEATURES_NUM), generator=gen, requires_grad=True) # Lookup table\n",
    "weights1 = torch.randn((BLOCK_SIZE * CHAR_FEATURES_NUM, HIDDEN_UNITS_NUM), generator=gen, requires_grad=True)\n",
    "bias1 = torch.randn(HIDDEN_UNITS_NUM, generator=gen, requires_grad=True)\n",
    "weights2 = torch.randn((HIDDEN_UNITS_NUM, 27), generator=gen, requires_grad=True)\n",
    "bias2 = torch.randn(27, generator=gen, requires_grad=True)\n",
    "\n",
    "# Uniform params\n",
    "C = torch.ones((27, CHAR_FEATURES_NUM), requires_grad=True) # Lookup table\n",
    "weights1 = torch.ones((BLOCK_SIZE * CHAR_FEATURES_NUM, HIDDEN_UNITS_NUM), requires_grad=True)\n",
    "bias1 = torch.ones(HIDDEN_UNITS_NUM, requires_grad=True)\n",
    "weights2 = torch.ones((HIDDEN_UNITS_NUM, 27), requires_grad=True)\n",
    "bias2 = torch.ones(27, requires_grad=True)\n",
    "\n",
    "parameters = [C, weights1, bias1, weights2, bias2]\n",
    "print(f\"TOTAL PARAMS: {sum([param.nelement() for param in parameters])}\")"
   ]
  },
  {
   "cell_type": "markdown",
   "metadata": {},
   "source": [
    "# Training Model"
   ]
  },
  {
   "cell_type": "code",
   "execution_count": null,
   "metadata": {},
   "outputs": [],
   "source": [
    "EPOCHS = 250000\n",
    "MINI_BATCH_SIZE = 50\n",
    "THIRD_OF_EPOCH = EPOCHS // 3\n",
    "\n",
    "losses = []\n",
    "learning_rate = 0.1\n",
    "for indx in range(0, EPOCHS):\n",
    "    mini_batch_indxs = torch.randint(0, train_inputs.shape[0], (MINI_BATCH_SIZE,))\n",
    "    mini_batch_inputs = train_inputs[mini_batch_indxs]\n",
    "    mini_batch_labels = train_labels[mini_batch_indxs]\n",
    "\n",
    "    embed = C[mini_batch_inputs]\n",
    "    joined_embed = embed.view(embed.shape[0], embed.shape[1] * embed.shape[2])\n",
    "    layer1_out = torch.tanh(joined_embed @ weights1 + bias1)\n",
    "    logits = layer1_out @ weights2 + bias2\n",
    "    loss = tfunc.cross_entropy(logits, mini_batch_labels)\n",
    "\n",
    "    for param in parameters:\n",
    "        param.grad = None\n",
    "\n",
    "    if THIRD_OF_EPOCH < indx < 2 * THIRD_OF_EPOCH:\n",
    "        learning_rate = 0.01 \n",
    "    elif 2 * THIRD_OF_EPOCH < indx:\n",
    "        learning_rate = 0.001 \n",
    "\n",
    "    loss.backward()\n",
    "    for param in parameters:\n",
    "        param.data += learning_rate * -param.grad\n",
    "    \n",
    "    losses.append(loss.log10().item())"
   ]
  },
  {
   "cell_type": "code",
   "execution_count": 54,
   "metadata": {},
   "outputs": [
    {
     "data": {
      "text/plain": [
       "[<matplotlib.lines.Line2D at 0x7f20dd503950>]"
      ]
     },
     "execution_count": 54,
     "metadata": {},
     "output_type": "execute_result"
    },
    {
     "data": {
      "image/png": "[encoded data removed]",
      "text/plain": [
       "<Figure size 640x480 with 1 Axes>"
      ]
     },
     "metadata": {},
     "output_type": "display_data"
    }
   ],
   "source": [
    "plt.plot(list(range(EPOCHS)), losses)"
   ]
  },
  {
   "cell_type": "markdown",
   "metadata": {},
   "source": [
    "# Eval Model with Dev Data"
   ]
  },
  {
   "cell_type": "code",
   "execution_count": 55,
   "metadata": {},
   "outputs": [
    {
     "name": "stdout",
     "output_type": "stream",
     "text": [
      "Train loss: 2.0467352867126465\n",
      "Dev loss: 2.197509288787842\n"
     ]
    }
   ],
   "source": [
    "embed = C[train_inputs]\n",
    "joined_embed = embed.view(embed.shape[0], embed.shape[1] * embed.shape[2])\n",
    "layer1_out = torch.tanh(joined_embed @ weights1 + bias1)\n",
    "logits = layer1_out @ weights2 + bias2\n",
    "loss = tfunc.cross_entropy(logits, train_labels)\n",
    "print(f\"Train loss: {loss.item()}\")\n",
    "\n",
    "embed = C[dev_inputs]\n",
    "joined_embed = embed.view(embed.shape[0], embed.shape[1] * embed.shape[2])\n",
    "layer1_out = torch.tanh(joined_embed @ weights1 + bias1)\n",
    "logits = layer1_out @ weights2 + bias2\n",
    "loss = tfunc.cross_entropy(logits, dev_labels)\n",
    "print(f\"Dev loss: {loss.item()}\")"
   ]
  },
  {
   "cell_type": "code",
   "execution_count": null,
   "metadata": {},
   "outputs": [],
   "source": [
    "# Best train loss: 2.1013004779815674\n",
    "# Best dev loss: 2.195601224899292"
   ]
  }
 ],
 "metadata": {
  "kernelspec": {
   "display_name": ".venv",
   "language": "python",
   "name": "python3"
  },
  "language_info": {
   "codemirror_mode": {
    "name": "ipython",
    "version": 3
   },
   "file_extension": ".py",
   "mimetype": "text/x-python",
   "name": "python",
   "nbconvert_exporter": "python",
   "pygments_lexer": "ipython3",
   "version": "3.11.2"
  }
 },
 "nbformat": 4,
 "nbformat_minor": 2
}
