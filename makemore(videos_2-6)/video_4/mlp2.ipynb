{
 "cells": [
  {
   "cell_type": "code",
   "execution_count": 1,
   "metadata": {},
   "outputs": [],
   "source": [
    "import math\n",
    "from random import shuffle\n",
    "from copy import deepcopy\n",
    "import torch\n",
    "import torch.nn.functional as tfunc\n",
    "import matplotlib.pyplot as plt\n",
    "\n",
    "\n",
    "torch.set_default_device(\"cuda\")"
   ]
  },
  {
   "cell_type": "markdown",
   "metadata": {},
   "source": [
    "# Building Dataset"
   ]
  },
  {
   "cell_type": "code",
   "execution_count": 2,
   "metadata": {},
   "outputs": [],
   "source": [
    "words = open(\"../names.txt\", \"r\").read().splitlines()\n",
    "chars = sorted(list(set(\"\".join(words))))\n",
    "char_to_indx = {char: indx+1 for indx, char in enumerate(chars)}\n",
    "char_to_indx[\".\"] = 0\n",
    "indx_to_char = {indx: char for char, indx in char_to_indx.items()}\n",
    "\n",
    "def train_dev_test_split(words, train_percentage, dev_percentage):\n",
    "    shuffled_words = deepcopy(words)\n",
    "    shuffle(shuffled_words)\n",
    "    train_dev_split_point = math.ceil(len(words) * train_percentage)\n",
    "    dev_val_split_point = math.floor(\n",
    "        train_dev_split_point + (len(words) * dev_percentage)\n",
    "    )\n",
    "    return (\n",
    "        shuffled_words[:train_dev_split_point],\n",
    "        shuffled_words[train_dev_split_point:dev_val_split_point],\n",
    "        shuffled_words[dev_val_split_point:],\n",
    "    )\n",
    "\n",
    "def create_dataset(words, char_to_indx, block_size = 3):\n",
    "    inputs, labels = [], []\n",
    "    for word in words:\n",
    "        # print(word)\n",
    "        context = [0] * block_size\n",
    "        for label in word + \".\":\n",
    "            label_indx = char_to_indx[label]\n",
    "            inputs.append(context)\n",
    "            labels.append(label_indx)\n",
    "            # print(\"\".join(indx_to_char[indx] for indx in context), \"------>\", label)\n",
    "            context = context[1:] + [label_indx]\n",
    "        # print()\n",
    "\n",
    "    return torch.tensor(inputs), torch.tensor(labels)\n",
    "\n",
    "BLOCK_SIZE = 5\n",
    "train_words, dev_words, test_words = train_dev_test_split(words, 0.8, 0.1)\n",
    "train_inputs, train_labels = create_dataset(train_words, char_to_indx, block_size=BLOCK_SIZE)\n",
    "dev_inputs, dev_labels = create_dataset(dev_words, char_to_indx, block_size=BLOCK_SIZE)\n",
    "test_inputs, test_labels = create_dataset(test_words, char_to_indx, block_size=BLOCK_SIZE)"
   ]
  },
  {
   "cell_type": "markdown",
   "metadata": {},
   "source": [
    "# Initializing Model Params"
   ]
  },
  {
   "cell_type": "code",
   "execution_count": 42,
   "metadata": {},
   "outputs": [
    {
     "name": "stdout",
     "output_type": "stream",
     "text": [
      "TOTAL PARAMS: 54537\n"
     ]
    }
   ],
   "source": [
    "# Params\n",
    "gen = torch.Generator(device=\"cuda\").manual_seed(2147483647)\n",
    "EMBED_NUM = 30\n",
    "HIDDEN_NUM = 300\n",
    "DOWN_SCALE_PARAMS = (0.07, 0.01, 0.01, 0)\n",
    "\n",
    "# Uniform configurable params\n",
    "C = torch.randn((27, EMBED_NUM), requires_grad=True) # Lookup table\n",
    "weights1 = (torch.randn((BLOCK_SIZE * EMBED_NUM, HIDDEN_NUM), requires_grad=True) * DOWN_SCALE_PARAMS[0]).detach().requires_grad_()\n",
    "weights2 = (torch.randn((HIDDEN_NUM, 27), requires_grad=True) * DOWN_SCALE_PARAMS[2]).detach().requires_grad_()\n",
    "bias2 = (torch.randn(27, requires_grad=True) * DOWN_SCALE_PARAMS[3]).detach().requires_grad_()\n",
    "\n",
    "batch_norm_gain = torch.ones((1, HIDDEN_NUM), requires_grad=True)\n",
    "batch_norm_bias = torch.zeros((1, HIDDEN_NUM), requires_grad=True)\n",
    "batch_norm_running_mean = torch.zeros((1, HIDDEN_NUM))\n",
    "batch_norm_running_std = torch.ones((1, HIDDEN_NUM))\n",
    "\n",
    "parameters = [C, weights1, weights2, bias2, batch_norm_gain, batch_norm_bias]\n",
    "# parameters = [C, weights1, bias1, weights2, bias2]\n",
    "print(f\"TOTAL PARAMS: {sum([param.nelement() for param in parameters])}\")"
   ]
  },
  {
   "cell_type": "markdown",
   "metadata": {},
   "source": [
    "# Training Model"
   ]
  },
  {
   "cell_type": "code",
   "execution_count": 43,
   "metadata": {},
   "outputs": [
    {
     "name": "stdout",
     "output_type": "stream",
     "text": [
      "0/200000 : 3.3168725967407227\n",
      "10000/200000 : 2.0796194076538086\n",
      "20000/200000 : 2.0188536643981934\n",
      "30000/200000 : 2.1862926483154297\n",
      "40000/200000 : 2.0629336833953857\n",
      "50000/200000 : 2.0053725242614746\n",
      "60000/200000 : 1.9205108880996704\n",
      "70000/200000 : 1.9781280755996704\n",
      "80000/200000 : 2.007481575012207\n",
      "90000/200000 : 2.0366594791412354\n",
      "100000/200000 : 1.9866344928741455\n",
      "110000/200000 : 2.026547431945801\n",
      "120000/200000 : 2.099771499633789\n",
      "130000/200000 : 2.080590009689331\n",
      "140000/200000 : 1.872315526008606\n",
      "150000/200000 : 1.941248893737793\n",
      "160000/200000 : 1.997975468635559\n",
      "170000/200000 : 1.841263771057129\n",
      "180000/200000 : 1.7813730239868164\n",
      "190000/200000 : 1.86961030960083\n"
     ]
    }
   ],
   "source": [
    "EPOCHS = 200000\n",
    "MINI_BATCH_SIZE = 100\n",
    "LOG_EVERY = 10000\n",
    "\n",
    "losses = []\n",
    "learning_rate = 0.1\n",
    "for indx in range(0, EPOCHS):\n",
    "    mini_batch_indxs = torch.randint(0, train_inputs.shape[0], (MINI_BATCH_SIZE,))\n",
    "    mini_batch_inputs = train_inputs[mini_batch_indxs]\n",
    "    mini_batch_labels = train_labels[mini_batch_indxs]\n",
    "\n",
    "    embed = C[mini_batch_inputs]\n",
    "    joined_embed = embed.view(embed.shape[0], embed.shape[1] * embed.shape[2])\n",
    "    preact = joined_embed @ weights1\n",
    "    current_mean, current_std = preact.mean(0, keepdim=True), preact.std(0, keepdim=True)\n",
    "    batch_norm_preact = batch_norm_gain * ((preact - current_mean) / current_std) + batch_norm_bias\n",
    "    layer1_out = torch.tanh(batch_norm_preact)\n",
    "    logits = layer1_out @ weights2 + bias2\n",
    "    loss = tfunc.cross_entropy(logits, mini_batch_labels)\n",
    "\n",
    "    with torch.no_grad():\n",
    "        batch_norm_running_mean = 0.99 * batch_norm_running_mean + 0.01 * current_mean\n",
    "        batch_norm_running_std = 0.99 * batch_norm_running_std + 0.01 * current_std\n",
    "\n",
    "    for param in parameters:\n",
    "        param.grad = None\n",
    "\n",
    "    if indx < 2 * EPOCHS // 3: learning_rate = 0.01 \n",
    "    loss.backward(retain_graph=True)\n",
    "    for param in parameters:\n",
    "        param.data += -learning_rate * param.grad\n",
    "    \n",
    "    if indx % LOG_EVERY == 0: print(f\"{indx}/{EPOCHS} : {loss.item()}\")\n",
    "    losses.append(loss.log10().item()\n",
    ")"
   ]
  },
  {
   "cell_type": "markdown",
   "metadata": {},
   "source": [
    "# Training loss curve plot"
   ]
  },
  {
   "cell_type": "code",
   "execution_count": 44,
   "metadata": {},
   "outputs": [
    {
     "data": {
      "text/plain": [
       "[<matplotlib.lines.Line2D at 0x7f3c9983d710>]"
      ]
     },
     "execution_count": 44,
     "metadata": {},
     "output_type": "execute_result"
    },
    {
     "data": {
      "image/png": "[encoded data removed]",
      "text/plain": [
       "<Figure size 640x480 with 1 Axes>"
      ]
     },
     "metadata": {},
     "output_type": "display_data"
    }
   ],
   "source": [
    "plt.plot(list(range(EPOCHS)), losses)"
   ]
  },
  {
   "cell_type": "markdown",
   "metadata": {},
   "source": [
    "# Eval Model with Dev Data"
   ]
  },
  {
   "cell_type": "code",
   "execution_count": 45,
   "metadata": {},
   "outputs": [
    {
     "name": "stdout",
     "output_type": "stream",
     "text": [
      "Train loss: 1.8377010822296143\n",
      "Dev loss: 2.019843339920044\n"
     ]
    }
   ],
   "source": [
    "@torch.no_grad()\n",
    "def calc_loss(inputs, labels):\n",
    "    embed = C[inputs]\n",
    "    joined_embed = embed.view(embed.shape[0], embed.shape[1] * embed.shape[2])\n",
    "    preact = joined_embed @ weights1 + bias1\n",
    "    batch_norm_preact = batch_norm_gain * ((preact - batch_norm_running_mean) / batch_norm_running_std) + batch_norm_bias\n",
    "    layer1_out = torch.tanh(batch_norm_preact)\n",
    "    logits = layer1_out @ weights2 + bias2\n",
    "    loss = tfunc.cross_entropy(logits, labels)\n",
    "    return loss\n",
    "\n",
    "print(f\"Train loss: {calc_loss(train_inputs, train_labels).item()}\")\n",
    "print(f\"Dev loss: {calc_loss(dev_inputs, dev_labels).item()}\")"
   ]
  },
  {
   "cell_type": "code",
   "execution_count": null,
   "metadata": {},
   "outputs": [],
   "source": [
    "# Best train loss: 1.8737189769744873\n",
    "# Best dev loss: 2.012103319168091"
   ]
  },
  {
   "cell_type": "markdown",
   "metadata": {},
   "source": [
    "# Sample from the model"
   ]
  },
  {
   "cell_type": "code",
   "execution_count": 10,
   "metadata": {},
   "outputs": [
    {
     "name": "stdout",
     "output_type": "stream",
     "text": [
      "brentse.\n",
      "ezrieh.\n",
      "francar.\n",
      "harsrahlee.\n",
      "lidzyon.\n",
      "rahhend.\n",
      "chrac.\n",
      "adoni.\n",
      "jensin.\n",
      "melo.\n",
      "arellonk.\n",
      "alstende.\n",
      "tengzond.\n",
      "kaylah.\n",
      "aannj.\n",
      "ruany.\n",
      "doria.\n",
      "aviri.\n",
      "thiyen.\n",
      "moraya.\n"
     ]
    }
   ],
   "source": [
    "NUM_SAMPLES = 20\n",
    "g = torch.Generator(device=\"cuda\").manual_seed(2147483647 + 10)\n",
    "for _ in range(NUM_SAMPLES): \n",
    "    out = []\n",
    "    context = [0] * BLOCK_SIZE\n",
    "    while True:\n",
    "        embed = C[torch.tensor([context])]\n",
    "        joined_embed = embed.view(embed.shape[0], embed.shape[1] * embed.shape[2])\n",
    "        layer1_out = torch.tanh(joined_embed @ weights1 + bias1)\n",
    "        logits = layer1_out @ weights2 + bias2\n",
    "        probs = tfunc.softmax(logits, dim=1)\n",
    "        ix = torch.multinomial(probs, num_samples=1, generator=g).item()\n",
    "        context = context[1:] + [ix]\n",
    "        out.append(ix)\n",
    "        if ix == 0:\n",
    "            break\n",
    "  \n",
    "    print(''.join(indx_to_char[i] for i in out)) # decode and print the generated word"
   ]
  }
 ],
 "metadata": {
  "kernelspec": {
   "display_name": ".venv",
   "language": "python",
   "name": "python3"
  },
  "language_info": {
   "codemirror_mode": {
    "name": "ipython",
    "version": 3
   },
   "file_extension": ".py",
   "mimetype": "text/x-python",
   "name": "python",
   "nbconvert_exporter": "python",
   "pygments_lexer": "ipython3",
   "version": "3.11.2"
  }
 },
 "nbformat": 4,
 "nbformat_minor": 2
}
